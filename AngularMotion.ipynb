{
 "cells": [
  {
   "cell_type": "markdown",
   "metadata": {},
   "source": [
    "# Angular Motion of Rigid Body\n",
    "How to propagate the angular velocity of a rigid body?"
   ]
  },
  {
   "cell_type": "code",
   "execution_count": 2,
   "metadata": {},
   "outputs": [],
   "source": [
    "%matplotlib inline\n",
    "import matplotlib.pyplot as plt\n",
    "import numpy as np"
   ]
  },
  {
   "cell_type": "markdown",
   "metadata": {},
   "source": [
    "## Equations of Motion\n",
    "Starting with the conservation of angular momentum $\\mathbf{H} = \\mathbf{I} \\cdot \\boldsymbol{\\omega}$, one can use the Coreolis Theorem to express:\n",
    "\\begin{align}\n",
    "^W \\frac{d}{dt} \\mathbf{H} &= ^W\\frac{d}{dt}\\left(\\mathbf{I} \\cdot \\boldsymbol{\\omega}\\right) \\\\\n",
    " &= ^B\\frac{d}{dt}\\left(\\mathbf{I} \\cdot \\boldsymbol{\\omega}\\right) + \\boldsymbol{\\omega} \\times \\mathbf{H} \\\\\n",
    "^W \\frac{d}{dt} \\mathbf{H} &= \\mathbf{I} \\cdot \\boldsymbol{\\omega} + \\boldsymbol{\\omega} \\times ^B\\mathbf{H} = \\mathbf{M} \\\\\n",
    "\\end{align}"
   ]
  },
  {
   "cell_type": "code",
   "execution_count": 20,
   "metadata": {},
   "outputs": [],
   "source": [
    "# initial conditions:\n",
    "omega_0 = np.matrix([[0, 0, 0]]).T\n",
    "\n",
    "# time span\n",
    "resolution = 0.05 # timestep in [s]\n",
    "final_time = 10   # [s]\n",
    "time = np.linspace(0,final_time,int(final_time/resolution))\n",
    "\n",
    "# rigid body specs:\n",
    "I = np.diag([1,2,3])"
   ]
  },
  {
   "cell_type": "code",
   "execution_count": 21,
   "metadata": {},
   "outputs": [
    {
     "data": {
      "text/plain": [
       "array([[1, 0, 0],\n",
       "       [0, 2, 0],\n",
       "       [0, 0, 3]])"
      ]
     },
     "execution_count": 21,
     "metadata": {},
     "output_type": "execute_result"
    }
   ],
   "source": [
    "I"
   ]
  },
  {
   "cell_type": "code",
   "execution_count": null,
   "metadata": {},
   "outputs": [],
   "source": []
  }
 ],
 "metadata": {
  "kernelspec": {
   "display_name": "Python 3",
   "language": "python",
   "name": "python3"
  },
  "language_info": {
   "codemirror_mode": {
    "name": "ipython",
    "version": 3
   },
   "file_extension": ".py",
   "mimetype": "text/x-python",
   "name": "python",
   "nbconvert_exporter": "python",
   "pygments_lexer": "ipython3",
   "version": "3.6.7"
  }
 },
 "nbformat": 4,
 "nbformat_minor": 2
}
