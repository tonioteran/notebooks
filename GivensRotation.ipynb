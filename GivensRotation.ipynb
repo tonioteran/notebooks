{
 "cells": [
  {
   "cell_type": "markdown",
   "metadata": {},
   "source": [
    "# Givens Rotations\n",
    "\n",
    "Step-by-step example of incremental QR factorization as outlined in *iSAM: Incremental Smoothing and Mapping* by Kaess et al."
   ]
  },
  {
   "cell_type": "code",
   "execution_count": 3,
   "metadata": {},
   "outputs": [],
   "source": [
    "import numpy as np"
   ]
  },
  {
   "cell_type": "markdown",
   "metadata": {},
   "source": [
    "Create a random matrix $\\mathbf{A}$ to factorize"
   ]
  },
  {
   "cell_type": "code",
   "execution_count": 4,
   "metadata": {},
   "outputs": [
    {
     "name": "stdout",
     "output_type": "stream",
     "text": [
      "[[ 1  2  3]\n",
      " [ 4 -5 -6]\n",
      " [-7  8  9]]\n"
     ]
    }
   ],
   "source": [
    "#A = np.random.rand(4,4)\n",
    "#A = np.matrix([[1,2,3,4],[5,-6,-7,8],[-9,-10,-1,11],[12,-13,-14,-15]])\n",
    "A = np.matrix([[1,2,3], [4,-5,-6], [-7, 8, 9]])\n",
    "print(A)"
   ]
  },
  {
   "cell_type": "code",
   "execution_count": 18,
   "metadata": {},
   "outputs": [],
   "source": [
    "def givensStep(A):\n",
    "    '''\n",
    "    performs a single givens rotation, and outputs result\n",
    "    '''\n",
    "    # Initialize givens rotation matrix\n",
    "    G = np.eye(len(A))\n",
    "    getout = False\n",
    "    for k in range(len(A)):\n",
    "        for i in reversed(range(k+1, len(A))):\n",
    "            print(A[i,k])\n",
    "            if np.abs(A[i,k]) >= 1e-10:\n",
    "                alpha = A[k,k]\n",
    "                beta = A[i,k]\n",
    "                r = np.sqrt(alpha**2 + beta**2)\n",
    "                print(\"alpha = \" + str(alpha) + \", beta = \" + str(beta) + \", r = \" + str(r))\n",
    "                # Compute Givens Rotation Matrix according to criteria:\n",
    "                c = alpha * (1/r) \n",
    "                s = beta * (1/r)\n",
    "                # Assing the values to the matrix:\n",
    "                G[k,k] = c\n",
    "                G[i,k] = -s\n",
    "                G[k,i] = s\n",
    "                G[i,i] = c\n",
    "                print(\"Givens Rotation\")\n",
    "                print(G)\n",
    "                return(G)\n",
    "                getout = True\n",
    "                break\n",
    "        if getout:\n",
    "            break\n",
    "            \n",
    "def cleanMat(A):\n",
    "    '''\n",
    "    set small values to zero\n",
    "    '''\n",
    "    for i in range(len(A)):\n",
    "        for j in range(len(A)):\n",
    "            if np.abs(A[i,j]) <= 1e-7:\n",
    "                A[i,j] = 0\n",
    "    return A\n",
    "        "
   ]
  },
  {
   "cell_type": "code",
   "execution_count": 33,
   "metadata": {},
   "outputs": [
    {
     "name": "stdout",
     "output_type": "stream",
     "text": [
      "-7\n",
      "alpha = 1, beta = -7, r = 7.0710678118654755\n",
      "Givens Rotation\n",
      "[[ 0.14142136  0.         -0.98994949]\n",
      " [ 0.          1.          0.        ]\n",
      " [ 0.98994949  0.          0.14142136]]\n"
     ]
    }
   ],
   "source": [
    "G = givensStep(A)"
   ]
  },
  {
   "cell_type": "code",
   "execution_count": 34,
   "metadata": {},
   "outputs": [
    {
     "name": "stdout",
     "output_type": "stream",
     "text": [
      "[[ 7.07106781 -7.63675324 -8.48528137]\n",
      " [ 4.         -5.         -6.        ]\n",
      " [ 0.          3.11126984  4.24264069]]\n"
     ]
    }
   ],
   "source": [
    "A2 = cleanMat(G*A)\n",
    "print(A2)"
   ]
  },
  {
   "cell_type": "code",
   "execution_count": 35,
   "metadata": {},
   "outputs": [
    {
     "name": "stdout",
     "output_type": "stream",
     "text": [
      "0.0\n",
      "4.0\n",
      "alpha = 7.0710678118654755, beta = 4.0, r = 8.12403840463596\n",
      "Givens Rotation\n",
      "[[ 0.87038828  0.49236596  0.        ]\n",
      " [-0.49236596  0.87038828  0.        ]\n",
      " [ 0.          0.          1.        ]]\n"
     ]
    }
   ],
   "source": [
    "G2 = givensStep(A2)"
   ]
  },
  {
   "cell_type": "code",
   "execution_count": 36,
   "metadata": {},
   "outputs": [
    {
     "name": "stdout",
     "output_type": "stream",
     "text": [
      "[[  8.1240384   -9.10877033 -10.33968524]\n",
      " [  0.          -0.59186403  -1.04446594]\n",
      " [  0.           3.11126984   4.24264069]]\n"
     ]
    }
   ],
   "source": [
    "A3 = cleanMat(G2*A2)\n",
    "print(A3)"
   ]
  },
  {
   "cell_type": "code",
   "execution_count": 37,
   "metadata": {},
   "outputs": [
    {
     "name": "stdout",
     "output_type": "stream",
     "text": [
      "0.0\n",
      "0.0\n",
      "3.111269837220809\n",
      "alpha = -0.5918640302493732, beta = 3.111269837220809, r = 3.167065365650515\n",
      "Givens Rotation\n",
      "[[ 1.          0.          0.        ]\n",
      " [ 0.         -0.1868809   0.98238258]\n",
      " [ 0.         -0.98238258 -0.1868809 ]]\n"
     ]
    }
   ],
   "source": [
    "G3 = givensStep(A3)"
   ]
  },
  {
   "cell_type": "code",
   "execution_count": 40,
   "metadata": {},
   "outputs": [
    {
     "name": "stdout",
     "output_type": "stream",
     "text": [
      "[[  8.1240384   -9.10877033 -10.33968524]\n",
      " [  0.           3.16706537   4.36308703]\n",
      " [  0.           0.           0.23319662]]\n"
     ]
    }
   ],
   "source": [
    "A4 = cleanMat(G3*A3)\n",
    "print(A4)"
   ]
  },
  {
   "cell_type": "markdown",
   "metadata": {},
   "source": [
    "After four iterations, the $\\mathbf{R}$ factor is obtained. The orthogonal matrix $\\mathbf{Q}$ is obtained by multiplying the obtained Givens rotations:"
   ]
  },
  {
   "cell_type": "code",
   "execution_count": 49,
   "metadata": {},
   "outputs": [
    {
     "name": "stdout",
     "output_type": "stream",
     "text": [
      "[[ 0.12309149 -0.          0.        ]\n",
      " [ 0.         -0.16265895 -0.        ]\n",
      " [-0.          0.         -0.02642895]]\n"
     ]
    }
   ],
   "source": [
    "Q = G3.transpose()*G2.transpose()*G.transpose()\n",
    "print(Q)"
   ]
  },
  {
   "cell_type": "markdown",
   "metadata": {},
   "source": [
    "... not quite right. "
   ]
  },
  {
   "cell_type": "code",
   "execution_count": null,
   "metadata": {},
   "outputs": [],
   "source": []
  }
 ],
 "metadata": {
  "kernelspec": {
   "display_name": "Python 3",
   "language": "python",
   "name": "python3"
  },
  "language_info": {
   "codemirror_mode": {
    "name": "ipython",
    "version": 3
   },
   "file_extension": ".py",
   "mimetype": "text/x-python",
   "name": "python",
   "nbconvert_exporter": "python",
   "pygments_lexer": "ipython3",
   "version": "3.6.6"
  }
 },
 "nbformat": 4,
 "nbformat_minor": 2
}
